{
  "nbformat": 4,
  "nbformat_minor": 0,
  "metadata": {
    "colab": {
      "provenance": []
    },
    "kernelspec": {
      "name": "python3",
      "display_name": "Python 3"
    },
    "language_info": {
      "name": "python"
    }
  },
  "cells": [
    {
      "cell_type": "code",
      "execution_count": 21,
      "metadata": {
        "colab": {
          "base_uri": "https://localhost:8080/"
        },
        "id": "u8kFRdkLSqAg",
        "outputId": "281c0981-68ba-4259-a7c3-f956b22bc09f"
      },
      "outputs": [
        {
          "output_type": "stream",
          "name": "stdout",
          "text": [
            "太郎は大人です\n",
            "次郎は大人です\n",
            "三郎は大人です\n"
          ]
        }
      ],
      "source": [
        "class Human:\n",
        "\n",
        "    def __init__(self, name, age):\n",
        "      self.name = name\n",
        "      self.age = age\n",
        "\n",
        "    def check_adult(self):\n",
        "      if self.age >= 20:\n",
        "        print(f\"{self.name}は大人です\")\n",
        "      else:\n",
        "        print(f\"{self.name}は大人ではないです\")\n",
        "\n",
        "human1 = Human(\"太郎\", 30)\n",
        "human2 = Human(\"次郎\", 28)\n",
        "human3 = Human(\"三郎\", 25)\n",
        "\n",
        "human_list = [human1, human2, human3]\n",
        "\n",
        "for person in human_list :\n",
        "    person.check_adult()\n"
      ]
    },
    {
      "cell_type": "code",
      "source": [],
      "metadata": {
        "id": "IJ5Nmdi1Zk2k"
      },
      "execution_count": null,
      "outputs": []
    }
  ]
}