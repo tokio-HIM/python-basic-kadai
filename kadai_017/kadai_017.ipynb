{
  "nbformat": 4,
  "nbformat_minor": 0,
  "metadata": {
    "colab": {
      "provenance": []
    },
    "kernelspec": {
      "name": "python3",
      "display_name": "Python 3"
    },
    "language_info": {
      "name": "python"
    }
  },
  "cells": [
    {
      "cell_type": "code",
      "execution_count": 20,
      "metadata": {
        "colab": {
          "base_uri": "https://localhost:8080/"
        },
        "id": "u8kFRdkLSqAg",
        "outputId": "02089a31-7990-42c1-a60d-b3f510a9ae42"
      },
      "outputs": [
        {
          "output_type": "stream",
          "name": "stdout",
          "text": [
            "太郎は大人です\n",
            "次郎は大人です\n",
            "三郎は大人です\n"
          ]
        }
      ],
      "source": [
        "class Human:\n",
        "\n",
        "    def __init__(self, name, age):\n",
        "      self.name = name\n",
        "      self.age = age\n",
        "\n",
        "    def printinfo(self):\n",
        "      print(self.name)\n",
        "      print(self.age)\n",
        "\n",
        "    def chack_adult(self):\n",
        "      if self.age >= 20:\n",
        "        print(f\"{self.name}は大人です\")\n",
        "      else:\n",
        "        print(f\"{self.name}は大人ではないです\")\n",
        "\n",
        "human_list1 = Human(\"太郎\", 30)\n",
        "human_list2 = Human(\"次郎\", 28)\n",
        "human_list3 = Human(\"三郎\", 25)\n",
        "\n",
        "human_list = [human_list1, human_list2, human_list3]\n",
        "\n",
        "for person in human_list :\n",
        "    person.chack_adult()\n"
      ]
    },
    {
      "cell_type": "code",
      "source": [],
      "metadata": {
        "id": "IJ5Nmdi1Zk2k"
      },
      "execution_count": null,
      "outputs": []
    }
  ]
}