{
  "nbformat": 4,
  "nbformat_minor": 0,
  "metadata": {
    "colab": {
      "provenance": []
    },
    "kernelspec": {
      "name": "python3",
      "display_name": "Python 3"
    },
    "language_info": {
      "name": "python"
    }
  },
  "cells": [
    {
      "cell_type": "code",
      "execution_count": 3,
      "metadata": {
        "id": "imOu8RfFzeAK"
      },
      "outputs": [],
      "source": [
        "upper_line = 10"
      ]
    },
    {
      "cell_type": "code",
      "source": [
        "bottom_line = 20"
      ],
      "metadata": {
        "id": "9ods5Zed4l_U"
      },
      "execution_count": 5,
      "outputs": []
    },
    {
      "cell_type": "code",
      "source": [
        "height = 5"
      ],
      "metadata": {
        "id": "0I-zaQh44qwM"
      },
      "execution_count": 6,
      "outputs": []
    },
    {
      "cell_type": "code",
      "source": [
        "S = (upper_line + bottom_line) * height / 2"
      ],
      "metadata": {
        "id": "Km-s7GT442kF"
      },
      "execution_count": 9,
      "outputs": []
    },
    {
      "cell_type": "code",
      "source": [
        "print(f\"台形の面積は{S}㎠です\")"
      ],
      "metadata": {
        "colab": {
          "base_uri": "https://localhost:8080/"
        },
        "id": "j1rlXgON5W2z",
        "outputId": "c2793916-8494-4d34-9b4f-2a026360f994"
      },
      "execution_count": 13,
      "outputs": [
        {
          "output_type": "stream",
          "name": "stdout",
          "text": [
            "台形の面積は75.0㎠です\n"
          ]
        }
      ]
    }
  ]
}