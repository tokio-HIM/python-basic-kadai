{
  "nbformat": 4,
  "nbformat_minor": 0,
  "metadata": {
    "colab": {
      "provenance": []
    },
    "kernelspec": {
      "name": "python3",
      "display_name": "Python 3"
    },
    "language_info": {
      "name": "python"
    }
  },
  "cells": [
    {
      "cell_type": "code",
      "execution_count": 4,
      "metadata": {
        "colab": {
          "base_uri": "https://localhost:8080/"
        },
        "id": "rm2eS4NHLiSR",
        "outputId": "ca080f70-4630-40f0-edc1-3de268063bb6"
      },
      "outputs": [
        {
          "output_type": "stream",
          "name": "stdout",
          "text": [
            "121.00000000000001円\n"
          ]
        }
      ],
      "source": [
        "def cost_calculater(price, tax):\n",
        "  total = price * (1 + tax/100)\n",
        "  print(f\"{total}円\")\n",
        "\n",
        "cost_calculater(110, 10)"
      ]
    }
  ]
}