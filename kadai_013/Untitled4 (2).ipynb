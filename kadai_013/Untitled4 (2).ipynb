{
  "nbformat": 4,
  "nbformat_minor": 0,
  "metadata": {
    "colab": {
      "provenance": []
    },
    "kernelspec": {
      "name": "python3",
      "display_name": "Python 3"
    },
    "language_info": {
      "name": "python"
    }
  },
  "cells": [
    {
      "cell_type": "code",
      "execution_count": 10,
      "metadata": {
        "colab": {
          "base_uri": "https://localhost:8080/"
        },
        "id": "rm2eS4NHLiSR",
        "outputId": "331ebf0e-2fe1-4b43-cca6-e502b048b7f7"
      },
      "outputs": [
        {
          "output_type": "stream",
          "name": "stdout",
          "text": [
            "121.0\n"
          ]
        }
      ],
      "source": [
        "def add_tax_to_price(price, tax_rate):\n",
        "    tax_amount = price * (tax_rate / 100)\n",
        "    total_price = price + tax_amount\n",
        "    return round(total_price, 2)\n",
        "\n",
        "price = 110\n",
        "tax_rate = 10\n",
        "print(add_tax_to_price(price, tax_rate))"
      ]
    },
    {
      "cell_type": "code",
      "source": [],
      "metadata": {
        "id": "hYSsAzuhblGN"
      },
      "execution_count": null,
      "outputs": []
    }
  ]
}