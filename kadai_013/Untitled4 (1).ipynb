{
  "nbformat": 4,
  "nbformat_minor": 0,
  "metadata": {
    "colab": {
      "provenance": []
    },
    "kernelspec": {
      "name": "python3",
      "display_name": "Python 3"
    },
    "language_info": {
      "name": "python"
    }
  },
  "cells": [
    {
      "cell_type": "code",
      "execution_count": 9,
      "metadata": {
        "colab": {
          "base_uri": "https://localhost:8080/"
        },
        "id": "rm2eS4NHLiSR",
        "outputId": "82d089bb-50c1-41cc-ad86-2eefc4556e64"
      },
      "outputs": [
        {
          "output_type": "stream",
          "name": "stdout",
          "text": [
            "121.00000000000001円\n"
          ]
        }
      ],
      "source": [
        "def add_tax_to_price(price, tax):\n",
        "  total = price * (1 + tax/100)\n",
        "  return(f\"{total}円\")\n",
        "price = 110\n",
        "tax_rate = 10\n",
        "print(add_tax_to_price(price, tax))"
      ]
    },
    {
      "cell_type": "code",
      "source": [],
      "metadata": {
        "id": "hYSsAzuhblGN"
      },
      "execution_count": null,
      "outputs": []
    }
  ]
}