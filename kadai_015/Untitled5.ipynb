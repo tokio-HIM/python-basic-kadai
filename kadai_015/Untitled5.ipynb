{
  "nbformat": 4,
  "nbformat_minor": 0,
  "metadata": {
    "colab": {
      "provenance": []
    },
    "kernelspec": {
      "name": "python3",
      "display_name": "Python 3"
    },
    "language_info": {
      "name": "python"
    }
  },
  "cells": [
    {
      "cell_type": "code",
      "execution_count": 4,
      "metadata": {
        "colab": {
          "base_uri": "https://localhost:8080/"
        },
        "id": "rvrSPNT6BmMv",
        "outputId": "454494bc-93e0-4dbb-f0ed-3d64edfdd6a4"
      },
      "outputs": [
        {
          "output_type": "stream",
          "name": "stdout",
          "text": [
            "Name: Taro, Age: 25\n"
          ]
        }
      ],
      "source": [
        "class Human:\n",
        "    def __init__(self, name, age):\n",
        "      self.name = name\n",
        "      self.age = age\n",
        "\n",
        "    def printinfo(self):\n",
        "      print(f\"Name: {self.name}, Age: {self.age}\")\n",
        "\n",
        "person = Human(\"Taro\", 25)\n",
        "\n",
        "person.printinfo()\n",
        ""
      ]
    },
    {
      "cell_type": "code",
      "source": [],
      "metadata": {
        "id": "LET08MigFPCl"
      },
      "execution_count": null,
      "outputs": []
    }
  ]
}